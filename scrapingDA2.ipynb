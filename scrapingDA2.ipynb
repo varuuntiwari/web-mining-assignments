{
  "nbformat": 4,
  "nbformat_minor": 0,
  "metadata": {
    "colab": {
      "name": "scrapingDA2.ipynb",
      "provenance": [],
      "collapsed_sections": []
    },
    "kernelspec": {
      "name": "python3",
      "display_name": "Python 3"
    },
    "language_info": {
      "name": "python"
    }
  },
  "cells": [
    {
      "cell_type": "code",
      "execution_count": 46,
      "metadata": {
        "colab": {
          "base_uri": "https://localhost:8080/"
        },
        "id": "2yYozp0mW8Y0",
        "outputId": "49057af6-7eb0-4e3f-e784-fcfb3c021ad3"
      },
      "outputs": [
        {
          "output_type": "stream",
          "name": "stdout",
          "text": [
            "Requirement already satisfied: bs4 in /usr/local/lib/python3.7/dist-packages (0.0.1)\n",
            "Requirement already satisfied: beautifulsoup4 in /usr/local/lib/python3.7/dist-packages (from bs4) (4.6.3)\n",
            "Requirement already satisfied: html.parser in /usr/local/lib/python3.7/dist-packages (0.2)\n",
            "Requirement already satisfied: ply in /usr/local/lib/python3.7/dist-packages (from html.parser) (3.11)\n"
          ]
        }
      ],
      "source": [
        "!pip install bs4\n",
        "!pip install html.parser"
      ]
    },
    {
      "cell_type": "code",
      "source": [
        "import requests\n",
        "from bs4 import BeautifulSoup\n",
        "import html.parser"
      ],
      "metadata": {
        "id": "oH1LyTWsXcXV"
      },
      "execution_count": 47,
      "outputs": []
    },
    {
      "cell_type": "code",
      "source": [
        "# Extract raw HTML content\n",
        "URL = 'https://varuuntiwari.github.io'\n",
        "page = requests.get(URL)\n",
        "raw_html = page.text\n",
        "print(raw_html)"
      ],
      "metadata": {
        "colab": {
          "base_uri": "https://localhost:8080/"
        },
        "id": "SN6qtVDOX3Lc",
        "outputId": "c24c4085-1d79-411c-fb4c-75190c98dcf4"
      },
      "execution_count": 48,
      "outputs": [
        {
          "output_type": "stream",
          "name": "stdout",
          "text": [
            "<!DOCTYPE html>\r\n",
            "<html lang=\"en\">\r\n",
            "    <meta charset=\"utf-8\" content=\"width=device-width, initial-scale=1\" name=\"viewport\">\r\n",
            "    <link rel=\"preconnect\" href=\"https://fonts.googleapis.com\">\r\n",
            "    <link rel=\"preconnect\" href=\"https://fonts.gstatic.com\" crossorigin>\r\n",
            "    <link href=\"https://fonts.googleapis.com/css2?family=Maven+Pro&display=swap\" rel=\"stylesheet\">\r\n",
            "    <script src=\"js/index.js\" type=\"text/javascript\"></script>\r\n",
            "    <link href=\"css/index.css\" rel=\"stylesheet\">\r\n",
            "    <link href=\"css/frame.css\" rel=\"stylesheet\">\r\n",
            "    <head>\r\n",
            "        <title>Welcome</title>\r\n",
            "    </head>\r\n",
            "    <body>\r\n",
            "        <div id=\"sidebar\">\r\n",
            "            <img src=\"pic/profilepic.jpeg\">\r\n",
            "            <div id=\"desc\">\r\n",
            "                Hi, I'm Varun,<br>a l33t h4ck3r.<br>\r\n",
            "                I'm pursuing Bachelors in Technology\r\n",
            "                from VIT, Vellore.<br><hr>\r\n",
            "                I like coding, gaming and\r\n",
            "                eating. Lots of it.<br><hr>\r\n",
            "                This website will consist of stuff I like to\r\n",
            "                do and you guys might find useful. Or not.\r\n",
            "                Also might not be mobile friendly.<br><hr>\r\n",
            "                It's still a work in progress, so excuse me\r\n",
            "                if the website seems untidy.<hr>\r\n",
            "            </div>\r\n",
            "        </div>\r\n",
            "        <div id=\"main\">\r\n",
            "            <div id=\"header\">\r\n",
            "                <button id=\"sidebut\" onclick=\"toggleSide()\">\r\n",
            "                    <img src=\"icons/sidebar.png\" width=\"30px\" height=\"30px\">\r\n",
            "                </button>\r\n",
            "            </div>\r\n",
            "            <div id=\"bod\"><br>\r\n",
            "                <div style=\"font-size: 50px;\">Hi.</div><br>\r\n",
            "                <div id=\"content\" style=\"font-size: 20px;\">\r\n",
            "                    This website runs on only HTML, CSS and JS. Not even jQuery.<br>\r\n",
            "                    Choose a topic you'd like to see me ramble on about.\r\n",
            "                </div><br><br>\r\n",
            "                <div id=\"topics\">\r\n",
            "                    <div class=\"topic\" onclick=\"window.location.href='privacy.html'\">\r\n",
            "                        <div class=\"des\">\r\n",
            "                            <div class=\"header\">Privacy</div>\r\n",
            "                            <div class=\"intro\">\r\n",
            "                                Stuff on how to make this myth real. A tip since this\r\n",
            "                                section is not made yet, use DuckDuckGo.\r\n",
            "                            </div>\r\n",
            "                        </div>\r\n",
            "                        <div class=\"topic-icon\">\r\n",
            "                            <img src=\"icons/privacy.png\">\r\n",
            "                        </div>\r\n",
            "                    </div>\r\n",
            "                    <div class=\"topic\" onclick=\"window.location.href='coding.html'\">\r\n",
            "                        <div class=\"des\">\r\n",
            "                            <div class=\"header\">Coding</div>\r\n",
            "                            <div class=\"intro\">\r\n",
            "                                Pretty useless since I'll link the projects\r\n",
            "                                anyone can see on my GitHub profile anyways.\r\n",
            "                            </div>\r\n",
            "                        </div>\r\n",
            "                        <div class=\"topic-icon\">\r\n",
            "                            <img src=\"icons/coding.png\">\r\n",
            "                        </div>\r\n",
            "                    </div>\r\n",
            "                    <div class=\"topic\" onclick=\"window.location.href='ctf.html'\">\r\n",
            "                        <div class=\"des\">\r\n",
            "                            <div class=\"header\">CTFs</div>\r\n",
            "                            <div class=\"intro\">\r\n",
            "                                If I'm not lazy one day, then maybe I'll make walkthroughs\r\n",
            "                                for CTFs I do and they'll be here.\r\n",
            "                            </div>\r\n",
            "                        </div>\r\n",
            "                        <div class=\"topic-icon\">\r\n",
            "                            <img src=\"icons/ctf.png\">\r\n",
            "                        </div>\r\n",
            "                    </div>\r\n",
            "                    <div class=\"topic\" onclick=\"window.location.href='certificates.html'\">\r\n",
            "                        <div class=\"des\">\r\n",
            "                            <div class=\"header\">My Certificates</div>\r\n",
            "                            <div class=\"intro\">\r\n",
            "                                All my certificates for all the online courses\r\n",
            "                                I did are linked here.\r\n",
            "                            </div>\r\n",
            "                        </div>\r\n",
            "                        <div class=\"topic-icon\">\r\n",
            "                            <img src=\"icons/certificates.png\">\r\n",
            "                        </div>\r\n",
            "                    </div>\r\n",
            "                    <div class=\"topic\" onclick=\"window.location.href='hacking.html'\">\r\n",
            "                        <div class=\"des\">\r\n",
            "                            <div class=\"header\">Hacking</div>\r\n",
            "                            <div class=\"intro\">\r\n",
            "                                I'll be posting stuff about hacking that I find\r\n",
            "                                out and links I find useful for CTFs.\r\n",
            "                            </div>\r\n",
            "                        </div>\r\n",
            "                        <div class=\"topic-icon\">\r\n",
            "                            <img src=\"icons/hacking.png\">\r\n",
            "                        </div>\r\n",
            "                    </div>\r\n",
            "                </div>\r\n",
            "            </div>\r\n",
            "            <div id=\"footer\">\r\n",
            "                <a href=\"mailto: koolstar@protonmail.ch\">\r\n",
            "                    <img src=\"icons/email.svg\" width=\"50px\" height=\"50px\">\r\n",
            "                </a>\r\n",
            "                <a href=\"https://www.github.com/aibot69\">\r\n",
            "                    <img src=\"icons/github.png\" height=\"30px\">\r\n",
            "                </a>\r\n",
            "            </div>\r\n",
            "        </div>\r\n",
            "    </body>\r\n",
            "</html>\n"
          ]
        }
      ]
    },
    {
      "cell_type": "code",
      "source": [
        "# Extract tags\n",
        "soup = BeautifulSoup(raw_html, 'html.parser')\n",
        "tags = set([tag.name for tag in soup.find_all()])\n",
        "for tag in tags:\n",
        "  print(tag, end=\" | \")"
      ],
      "metadata": {
        "colab": {
          "base_uri": "https://localhost:8080/"
        },
        "id": "a-TTHIstZwJ7",
        "outputId": "a21616f5-cb5f-48c0-b21b-0088001340f1"
      },
      "execution_count": 49,
      "outputs": [
        {
          "output_type": "stream",
          "name": "stdout",
          "text": [
            "link | head | title | a | script | br | html | div | meta | img | button | body | hr | "
          ]
        }
      ]
    },
    {
      "cell_type": "code",
      "source": [
        "# All textual content\n",
        "soup = BeautifulSoup(raw_html, 'html.parser')\n",
        "texts = soup.get_text(strip=True)\n",
        "\n",
        "for letter in texts:\n",
        "  if letter == '.':\n",
        "    print('.')\n",
        "  else:\n",
        "    print(letter, end='')"
      ],
      "metadata": {
        "colab": {
          "base_uri": "https://localhost:8080/"
        },
        "id": "CT2MiyvtbPlZ",
        "outputId": "44e7a3f3-a06f-47be-c25d-ac400b9e5712"
      },
      "execution_count": 50,
      "outputs": [
        {
          "output_type": "stream",
          "name": "stdout",
          "text": [
            "WelcomeHi, I'm Varun,a l33t h4ck3r.\n",
            "I'm pursuing Bachelors in Technology\r\n",
            "                from VIT, Vellore.\n",
            "I like coding, gaming and\r\n",
            "                eating.\n",
            " Lots of it.\n",
            "This website will consist of stuff I like to\r\n",
            "                do and you guys might find useful.\n",
            " Or not.\n",
            "\r\n",
            "                Also might not be mobile friendly.\n",
            "It's still a work in progress, so excuse me\r\n",
            "                if the website seems untidy.\n",
            "Hi.\n",
            "This website runs on only HTML, CSS and JS.\n",
            " Not even jQuery.\n",
            "Choose a topic you'd like to see me ramble on about.\n",
            "PrivacyStuff on how to make this myth real.\n",
            " A tip since this\r\n",
            "                                section is not made yet, use DuckDuckGo.\n",
            "CodingPretty useless since I'll link the projects\r\n",
            "                                anyone can see on my GitHub profile anyways.\n",
            "CTFsIf I'm not lazy one day, then maybe I'll make walkthroughs\r\n",
            "                                for CTFs I do and they'll be here.\n",
            "My CertificatesAll my certificates for all the online courses\r\n",
            "                                I did are linked here.\n",
            "HackingI'll be posting stuff about hacking that I find\r\n",
            "                                out and links I find useful for CTFs.\n"
          ]
        }
      ]
    }
  ]
}