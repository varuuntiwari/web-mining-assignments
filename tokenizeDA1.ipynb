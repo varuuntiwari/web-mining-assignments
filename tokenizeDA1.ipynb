{
  "nbformat": 4,
  "nbformat_minor": 0,
  "metadata": {
    "colab": {
      "name": "tokenizeDA1.ipynb",
      "provenance": [],
      "collapsed_sections": []
    },
    "kernelspec": {
      "name": "python3",
      "display_name": "Python 3"
    },
    "language_info": {
      "name": "python"
    }
  },
  "cells": [
    {
      "cell_type": "code",
      "source": [
        "!pip install nltk"
      ],
      "metadata": {
        "colab": {
          "base_uri": "https://localhost:8080/"
        },
        "id": "xpvdZEWUYiR-",
        "outputId": "a6c39869-d0a4-47de-fab1-7e8b64bc9cd0"
      },
      "execution_count": 59,
      "outputs": [
        {
          "output_type": "stream",
          "name": "stdout",
          "text": [
            "Requirement already satisfied: nltk in /usr/local/lib/python3.7/dist-packages (3.2.5)\n",
            "Requirement already satisfied: six in /usr/local/lib/python3.7/dist-packages (from nltk) (1.15.0)\n"
          ]
        }
      ]
    },
    {
      "cell_type": "code",
      "source": [
        "from nltk.tokenize import sent_tokenize as sentences\n",
        "from nltk.tokenize import word_tokenize as words\n",
        "from nltk.corpus import stopwords\n",
        "para = '''What is Web Mining? Web Mining is the process of \"Data Mining\" techniques, and extract information from Web documents and services. The main purpose of web mining is discovering useful information from the World-Wide Web and it’s usage patterns.'''"
      ],
      "metadata": {
        "id": "Mmqat1u5YlN-"
      },
      "execution_count": 60,
      "outputs": []
    },
    {
      "cell_type": "code",
      "source": [
        "# a. Word tokenization\n",
        "tokenized_words, i = words(para), 0\n",
        "print(\"Tokenized words:\\n----------------\")\n",
        "for word in tokenized_words:\n",
        "  i+=1\n",
        "  print(f\"{word}\", end=\" | \")\n",
        "  if i%10==0:\n",
        "    print()"
      ],
      "metadata": {
        "colab": {
          "base_uri": "https://localhost:8080/"
        },
        "id": "LEwAu5WbDdsd",
        "outputId": "f6ddacc7-0b57-4437-f27b-74943c4126ac"
      },
      "execution_count": 62,
      "outputs": [
        {
          "output_type": "stream",
          "name": "stdout",
          "text": [
            "Tokenized words:\n",
            "----------------\n",
            "What | is | Web | Mining | ? | Web | Mining | is | the | process | \n",
            "of | `` | Data | Mining | '' | techniques | , | and | extract | information | \n",
            "from | Web | documents | and | services | . | The | main | purpose | of | \n",
            "web | mining | is | discovering | useful | information | from | the | World-Wide | Web | \n",
            "and | it | ’ | s | usage | patterns | . | "
          ]
        }
      ]
    },
    {
      "cell_type": "code",
      "source": [
        "# b. Sentence tokenization\n",
        "tokenized_sentences, i = sentences(para), 0\n",
        "print(\"Tokenized sentences:\\n--------------------\")\n",
        "for sentence in tokenized_sentences:\n",
        "  i+=1\n",
        "  print(f\"{i}. {sentence}\")"
      ],
      "metadata": {
        "colab": {
          "base_uri": "https://localhost:8080/"
        },
        "id": "ugNZ4xd4CDWu",
        "outputId": "49eb930d-fadf-4dca-c606-fb09c4fa1d88"
      },
      "execution_count": 63,
      "outputs": [
        {
          "output_type": "stream",
          "name": "stdout",
          "text": [
            "Tokenized sentences:\n",
            "--------------------\n",
            "1. What is Web Mining?\n",
            "2. Web Mining is the process of \"Data Mining\" techniques, and extract information from Web documents and services.\n",
            "3. The main purpose of web mining is discovering useful information from the World-Wide Web and it’s usage patterns.\n"
          ]
        }
      ]
    },
    {
      "cell_type": "code",
      "source": [
        "# c. Removing stop words and punctuations\n",
        "stop_words , i = set(stopwords.words('english')), 0\n",
        "words_without_stopwords = [word for word in tokenized_words if word not in stop_words]\n",
        "filtered_words = set([word.lower() for word in words_without_stopwords if word.isalnum()])\n",
        "for word in filtered_words:\n",
        "  i+=1\n",
        "  print(f\"{word}\", end=\" | \")\n",
        "  if i%10==0:\n",
        "    print()"
      ],
      "metadata": {
        "id": "d26-7vDIGDIK",
        "colab": {
          "base_uri": "https://localhost:8080/"
        },
        "outputId": "cd2c5310-db2d-47a8-95a7-87b157dd5dee"
      },
      "execution_count": 70,
      "outputs": [
        {
          "output_type": "stream",
          "name": "stdout",
          "text": [
            "data | information | patterns | services | what | the | extract | purpose | web | discovering | \n",
            "mining | useful | techniques | documents | process | main | usage | "
          ]
        }
      ]
    }
  ]
}